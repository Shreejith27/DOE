{
 "cells": [
  {
   "cell_type": "code",
   "execution_count": 1,
   "id": "8996f711",
   "metadata": {},
   "outputs": [],
   "source": [
    "import pandas as pd\n",
    "import numpy as np"
   ]
  },
  {
   "cell_type": "code",
   "execution_count": 2,
   "id": "c8b117d4",
   "metadata": {},
   "outputs": [],
   "source": [
    "A=np.array([21,22,23,25])\n",
    "B=np.array([33,37,33,76])\n",
    "C=np.array([43,44,56,66])\n",
    "D=np.array([65,24,29,35])\n",
    "E=np.array([27,88,67,95])"
   ]
  },
  {
   "cell_type": "code",
   "execution_count": 4,
   "id": "08c78679",
   "metadata": {},
   "outputs": [],
   "source": [
    "dict_1={\"A\":A,\"B\":B,\"C\":C,\"D\":D,\"E\":E}"
   ]
  },
  {
   "cell_type": "code",
   "execution_count": 6,
   "id": "18a54f5e",
   "metadata": {},
   "outputs": [],
   "source": [
    "df_1=pd.DataFrame(dict_1)"
   ]
  },
  {
   "cell_type": "code",
   "execution_count": 7,
   "id": "2d52e58b",
   "metadata": {},
   "outputs": [
    {
     "data": {
      "text/html": [
       "<div>\n",
       "<style scoped>\n",
       "    .dataframe tbody tr th:only-of-type {\n",
       "        vertical-align: middle;\n",
       "    }\n",
       "\n",
       "    .dataframe tbody tr th {\n",
       "        vertical-align: top;\n",
       "    }\n",
       "\n",
       "    .dataframe thead th {\n",
       "        text-align: right;\n",
       "    }\n",
       "</style>\n",
       "<table border=\"1\" class=\"dataframe\">\n",
       "  <thead>\n",
       "    <tr style=\"text-align: right;\">\n",
       "      <th></th>\n",
       "      <th>A</th>\n",
       "      <th>B</th>\n",
       "      <th>C</th>\n",
       "      <th>D</th>\n",
       "      <th>E</th>\n",
       "    </tr>\n",
       "  </thead>\n",
       "  <tbody>\n",
       "    <tr>\n",
       "      <th>0</th>\n",
       "      <td>21</td>\n",
       "      <td>33</td>\n",
       "      <td>43</td>\n",
       "      <td>65</td>\n",
       "      <td>27</td>\n",
       "    </tr>\n",
       "    <tr>\n",
       "      <th>1</th>\n",
       "      <td>22</td>\n",
       "      <td>37</td>\n",
       "      <td>44</td>\n",
       "      <td>24</td>\n",
       "      <td>88</td>\n",
       "    </tr>\n",
       "    <tr>\n",
       "      <th>2</th>\n",
       "      <td>23</td>\n",
       "      <td>33</td>\n",
       "      <td>56</td>\n",
       "      <td>29</td>\n",
       "      <td>67</td>\n",
       "    </tr>\n",
       "    <tr>\n",
       "      <th>3</th>\n",
       "      <td>25</td>\n",
       "      <td>76</td>\n",
       "      <td>66</td>\n",
       "      <td>35</td>\n",
       "      <td>95</td>\n",
       "    </tr>\n",
       "  </tbody>\n",
       "</table>\n",
       "</div>"
      ],
      "text/plain": [
       "    A   B   C   D   E\n",
       "0  21  33  43  65  27\n",
       "1  22  37  44  24  88\n",
       "2  23  33  56  29  67\n",
       "3  25  76  66  35  95"
      ]
     },
     "execution_count": 7,
     "metadata": {},
     "output_type": "execute_result"
    }
   ],
   "source": [
    "df_1"
   ]
  },
  {
   "cell_type": "code",
   "execution_count": 8,
   "id": "83bfbf4c",
   "metadata": {},
   "outputs": [],
   "source": [
    "df_2=df_1.melt()"
   ]
  },
  {
   "cell_type": "code",
   "execution_count": 9,
   "id": "42aced1f",
   "metadata": {},
   "outputs": [
    {
     "data": {
      "text/html": [
       "<div>\n",
       "<style scoped>\n",
       "    .dataframe tbody tr th:only-of-type {\n",
       "        vertical-align: middle;\n",
       "    }\n",
       "\n",
       "    .dataframe tbody tr th {\n",
       "        vertical-align: top;\n",
       "    }\n",
       "\n",
       "    .dataframe thead th {\n",
       "        text-align: right;\n",
       "    }\n",
       "</style>\n",
       "<table border=\"1\" class=\"dataframe\">\n",
       "  <thead>\n",
       "    <tr style=\"text-align: right;\">\n",
       "      <th></th>\n",
       "      <th>variable</th>\n",
       "      <th>value</th>\n",
       "    </tr>\n",
       "  </thead>\n",
       "  <tbody>\n",
       "    <tr>\n",
       "      <th>0</th>\n",
       "      <td>A</td>\n",
       "      <td>21</td>\n",
       "    </tr>\n",
       "    <tr>\n",
       "      <th>1</th>\n",
       "      <td>A</td>\n",
       "      <td>22</td>\n",
       "    </tr>\n",
       "    <tr>\n",
       "      <th>2</th>\n",
       "      <td>A</td>\n",
       "      <td>23</td>\n",
       "    </tr>\n",
       "    <tr>\n",
       "      <th>3</th>\n",
       "      <td>A</td>\n",
       "      <td>25</td>\n",
       "    </tr>\n",
       "    <tr>\n",
       "      <th>4</th>\n",
       "      <td>B</td>\n",
       "      <td>33</td>\n",
       "    </tr>\n",
       "    <tr>\n",
       "      <th>5</th>\n",
       "      <td>B</td>\n",
       "      <td>37</td>\n",
       "    </tr>\n",
       "    <tr>\n",
       "      <th>6</th>\n",
       "      <td>B</td>\n",
       "      <td>33</td>\n",
       "    </tr>\n",
       "    <tr>\n",
       "      <th>7</th>\n",
       "      <td>B</td>\n",
       "      <td>76</td>\n",
       "    </tr>\n",
       "    <tr>\n",
       "      <th>8</th>\n",
       "      <td>C</td>\n",
       "      <td>43</td>\n",
       "    </tr>\n",
       "    <tr>\n",
       "      <th>9</th>\n",
       "      <td>C</td>\n",
       "      <td>44</td>\n",
       "    </tr>\n",
       "    <tr>\n",
       "      <th>10</th>\n",
       "      <td>C</td>\n",
       "      <td>56</td>\n",
       "    </tr>\n",
       "    <tr>\n",
       "      <th>11</th>\n",
       "      <td>C</td>\n",
       "      <td>66</td>\n",
       "    </tr>\n",
       "    <tr>\n",
       "      <th>12</th>\n",
       "      <td>D</td>\n",
       "      <td>65</td>\n",
       "    </tr>\n",
       "    <tr>\n",
       "      <th>13</th>\n",
       "      <td>D</td>\n",
       "      <td>24</td>\n",
       "    </tr>\n",
       "    <tr>\n",
       "      <th>14</th>\n",
       "      <td>D</td>\n",
       "      <td>29</td>\n",
       "    </tr>\n",
       "    <tr>\n",
       "      <th>15</th>\n",
       "      <td>D</td>\n",
       "      <td>35</td>\n",
       "    </tr>\n",
       "    <tr>\n",
       "      <th>16</th>\n",
       "      <td>E</td>\n",
       "      <td>27</td>\n",
       "    </tr>\n",
       "    <tr>\n",
       "      <th>17</th>\n",
       "      <td>E</td>\n",
       "      <td>88</td>\n",
       "    </tr>\n",
       "    <tr>\n",
       "      <th>18</th>\n",
       "      <td>E</td>\n",
       "      <td>67</td>\n",
       "    </tr>\n",
       "    <tr>\n",
       "      <th>19</th>\n",
       "      <td>E</td>\n",
       "      <td>95</td>\n",
       "    </tr>\n",
       "  </tbody>\n",
       "</table>\n",
       "</div>"
      ],
      "text/plain": [
       "   variable  value\n",
       "0         A     21\n",
       "1         A     22\n",
       "2         A     23\n",
       "3         A     25\n",
       "4         B     33\n",
       "5         B     37\n",
       "6         B     33\n",
       "7         B     76\n",
       "8         C     43\n",
       "9         C     44\n",
       "10        C     56\n",
       "11        C     66\n",
       "12        D     65\n",
       "13        D     24\n",
       "14        D     29\n",
       "15        D     35\n",
       "16        E     27\n",
       "17        E     88\n",
       "18        E     67\n",
       "19        E     95"
      ]
     },
     "execution_count": 9,
     "metadata": {},
     "output_type": "execute_result"
    }
   ],
   "source": [
    "df_2"
   ]
  },
  {
   "cell_type": "code",
   "execution_count": 10,
   "id": "e9df5946",
   "metadata": {},
   "outputs": [
    {
     "data": {
      "text/plain": [
       "Index(['variable', 'value'], dtype='object')"
      ]
     },
     "execution_count": 10,
     "metadata": {},
     "output_type": "execute_result"
    }
   ],
   "source": [
    "df_2.columns"
   ]
  },
  {
   "cell_type": "code",
   "execution_count": 13,
   "id": "af17f054",
   "metadata": {},
   "outputs": [
    {
     "data": {
      "text/plain": [
       "5"
      ]
     },
     "execution_count": 13,
     "metadata": {},
     "output_type": "execute_result"
    }
   ],
   "source": [
    "treatment=df_2.variable.nunique(dropna=True)\n",
    "treatment"
   ]
  },
  {
   "cell_type": "code",
   "execution_count": 15,
   "id": "ba78d314",
   "metadata": {},
   "outputs": [
    {
     "data": {
      "text/plain": [
       "4"
      ]
     },
     "execution_count": 15,
     "metadata": {},
     "output_type": "execute_result"
    }
   ],
   "source": [
    "df_treatment=treatment-1\n",
    "df_treatment"
   ]
  },
  {
   "cell_type": "code",
   "execution_count": 16,
   "id": "e5ec4c9a",
   "metadata": {},
   "outputs": [
    {
     "data": {
      "text/plain": [
       "20"
      ]
     },
     "execution_count": 16,
     "metadata": {},
     "output_type": "execute_result"
    }
   ],
   "source": [
    "total=df_2.value.count()\n",
    "total"
   ]
  },
  {
   "cell_type": "code",
   "execution_count": 18,
   "id": "6085d7c1",
   "metadata": {},
   "outputs": [
    {
     "data": {
      "text/plain": [
       "19"
      ]
     },
     "execution_count": 18,
     "metadata": {},
     "output_type": "execute_result"
    }
   ],
   "source": [
    "df_total=total-1\n",
    "df_total"
   ]
  },
  {
   "cell_type": "code",
   "execution_count": 20,
   "id": "2e58c177",
   "metadata": {},
   "outputs": [
    {
     "data": {
      "text/plain": [
       "15"
      ]
     },
     "execution_count": 20,
     "metadata": {},
     "output_type": "execute_result"
    }
   ],
   "source": [
    "df_error=df_total-df_treatment\n",
    "df_error"
   ]
  },
  {
   "cell_type": "code",
   "execution_count": 22,
   "id": "e80c48c3",
   "metadata": {},
   "outputs": [],
   "source": [
    "mean_A=np.mean(A)\n",
    "mean_B=np.mean(B)\n",
    "mean_C=np.mean(C)\n",
    "mean_D=np.mean(D)\n",
    "mean_E=np.mean(E)"
   ]
  },
  {
   "cell_type": "code",
   "execution_count": 24,
   "id": "cfaee69a",
   "metadata": {},
   "outputs": [],
   "source": [
    "mean_total=df_2.value.mean()"
   ]
  },
  {
   "cell_type": "code",
   "execution_count": 25,
   "id": "08a9ad76",
   "metadata": {},
   "outputs": [
    {
     "data": {
      "text/plain": [
       "45.45"
      ]
     },
     "execution_count": 25,
     "metadata": {},
     "output_type": "execute_result"
    }
   ],
   "source": [
    "mean_total"
   ]
  },
  {
   "cell_type": "code",
   "execution_count": 26,
   "id": "51f9d417",
   "metadata": {},
   "outputs": [
    {
     "data": {
      "text/plain": [
       "0     21\n",
       "1     22\n",
       "2     23\n",
       "3     25\n",
       "4     33\n",
       "5     37\n",
       "6     33\n",
       "7     76\n",
       "8     43\n",
       "9     44\n",
       "10    56\n",
       "11    66\n",
       "12    65\n",
       "13    24\n",
       "14    29\n",
       "15    35\n",
       "16    27\n",
       "17    88\n",
       "18    67\n",
       "19    95\n",
       "Name: value, dtype: int32"
      ]
     },
     "execution_count": 26,
     "metadata": {},
     "output_type": "execute_result"
    }
   ],
   "source": [
    "df_2.value"
   ]
  },
  {
   "cell_type": "code",
   "execution_count": 27,
   "id": "aa388be7",
   "metadata": {},
   "outputs": [],
   "source": [
    "TSS=0\n",
    "for i in df_2.value:\n",
    "    TSS=TSS+((i-mean_tot)**2)"
   ]
  },
  {
   "cell_type": "code",
   "execution_count": 28,
   "id": "b6aae3aa",
   "metadata": {},
   "outputs": [
    {
     "data": {
      "text/plain": [
       "10218.95"
      ]
     },
     "execution_count": 28,
     "metadata": {},
     "output_type": "execute_result"
    }
   ],
   "source": [
    "TSS"
   ]
  },
  {
   "cell_type": "code",
   "execution_count": 29,
   "id": "c5808ad1",
   "metadata": {},
   "outputs": [],
   "source": [
    "mean_treatment=np.array([mean_A,mean_B,mean_C,mean_D,mean_E])"
   ]
  },
  {
   "cell_type": "code",
   "execution_count": 30,
   "id": "4f3d7fc3",
   "metadata": {},
   "outputs": [
    {
     "data": {
      "text/plain": [
       "array([22.75, 44.75, 52.25, 38.25, 69.25])"
      ]
     },
     "execution_count": 30,
     "metadata": {},
     "output_type": "execute_result"
    }
   ],
   "source": [
    "mean_treatment"
   ]
  },
  {
   "cell_type": "code",
   "execution_count": 33,
   "id": "134685ba",
   "metadata": {},
   "outputs": [
    {
     "name": "stdout",
     "output_type": "stream",
     "text": [
      "22.75\n",
      "44.75\n",
      "52.25\n",
      "38.25\n",
      "69.25\n"
     ]
    }
   ],
   "source": [
    "SStr=0\n",
    "for i in mean_treatment:\n",
    "    SStr=SStr+len(A)*((i-mean_total)**2)\n",
    "    print(i)"
   ]
  },
  {
   "cell_type": "code",
   "execution_count": 34,
   "id": "dd4a8d9e",
   "metadata": {},
   "outputs": [
    {
     "data": {
      "text/plain": [
       "4721.2"
      ]
     },
     "execution_count": 34,
     "metadata": {},
     "output_type": "execute_result"
    }
   ],
   "source": [
    "SStr"
   ]
  },
  {
   "cell_type": "code",
   "execution_count": 35,
   "id": "d1c9afee",
   "metadata": {},
   "outputs": [],
   "source": [
    "SSE=TSS-SStr"
   ]
  },
  {
   "cell_type": "code",
   "execution_count": 36,
   "id": "63b39d8c",
   "metadata": {},
   "outputs": [
    {
     "data": {
      "text/plain": [
       "5497.750000000001"
      ]
     },
     "execution_count": 36,
     "metadata": {},
     "output_type": "execute_result"
    }
   ],
   "source": [
    "SSE"
   ]
  },
  {
   "cell_type": "code",
   "execution_count": 37,
   "id": "bd0d0444",
   "metadata": {},
   "outputs": [],
   "source": [
    "mean_SStr=SStr/df_treatment"
   ]
  },
  {
   "cell_type": "code",
   "execution_count": 38,
   "id": "6034e0c9",
   "metadata": {},
   "outputs": [],
   "source": [
    "mean_SSE=SSE/df_error"
   ]
  },
  {
   "cell_type": "code",
   "execution_count": 39,
   "id": "c319d37a",
   "metadata": {},
   "outputs": [],
   "source": [
    "F_calculated=mean_SStr/mean_SSE"
   ]
  },
  {
   "cell_type": "code",
   "execution_count": 47,
   "id": "f8346087",
   "metadata": {},
   "outputs": [],
   "source": [
    "S_O_V=[\"treatment\",\"error\",\"total\"]\n",
    "DF=[df_treatment,df_error,df_total]\n",
    "ss=[SStr,SSE,TSS]\n",
    "mss=[mean_SStr,mean_SSE,np.nan]\n",
    "fc=[F_calculated,np.nan,np.nan]"
   ]
  },
  {
   "cell_type": "code",
   "execution_count": 48,
   "id": "83c0bfa1",
   "metadata": {},
   "outputs": [],
   "source": [
    "Anova={\"source of variation\":S_O_V,\"df\":DF,\"sum squared(SS)\":ss,\"mean sum squared\":mss,\"F (calculated)\":fc}"
   ]
  },
  {
   "cell_type": "code",
   "execution_count": 49,
   "id": "ce5bc9e3",
   "metadata": {},
   "outputs": [],
   "source": [
    "ANOVA_TABLE=pd.DataFrame(Anova)"
   ]
  },
  {
   "cell_type": "code",
   "execution_count": 50,
   "id": "92423767",
   "metadata": {},
   "outputs": [
    {
     "data": {
      "text/html": [
       "<div>\n",
       "<style scoped>\n",
       "    .dataframe tbody tr th:only-of-type {\n",
       "        vertical-align: middle;\n",
       "    }\n",
       "\n",
       "    .dataframe tbody tr th {\n",
       "        vertical-align: top;\n",
       "    }\n",
       "\n",
       "    .dataframe thead th {\n",
       "        text-align: right;\n",
       "    }\n",
       "</style>\n",
       "<table border=\"1\" class=\"dataframe\">\n",
       "  <thead>\n",
       "    <tr style=\"text-align: right;\">\n",
       "      <th></th>\n",
       "      <th>source of variation</th>\n",
       "      <th>df</th>\n",
       "      <th>sum squared(SS)</th>\n",
       "      <th>mean sum squared</th>\n",
       "      <th>F (calculated)</th>\n",
       "    </tr>\n",
       "  </thead>\n",
       "  <tbody>\n",
       "    <tr>\n",
       "      <th>0</th>\n",
       "      <td>treatment</td>\n",
       "      <td>4</td>\n",
       "      <td>4721.20</td>\n",
       "      <td>1180.300000</td>\n",
       "      <td>3.220317</td>\n",
       "    </tr>\n",
       "    <tr>\n",
       "      <th>1</th>\n",
       "      <td>error</td>\n",
       "      <td>15</td>\n",
       "      <td>5497.75</td>\n",
       "      <td>366.516667</td>\n",
       "      <td>NaN</td>\n",
       "    </tr>\n",
       "    <tr>\n",
       "      <th>2</th>\n",
       "      <td>total</td>\n",
       "      <td>19</td>\n",
       "      <td>10218.95</td>\n",
       "      <td>NaN</td>\n",
       "      <td>NaN</td>\n",
       "    </tr>\n",
       "  </tbody>\n",
       "</table>\n",
       "</div>"
      ],
      "text/plain": [
       "  source of variation  df  sum squared(SS)  mean sum squared  F (calculated)\n",
       "0           treatment   4          4721.20       1180.300000        3.220317\n",
       "1               error  15          5497.75        366.516667             NaN\n",
       "2               total  19         10218.95               NaN             NaN"
      ]
     },
     "execution_count": 50,
     "metadata": {},
     "output_type": "execute_result"
    }
   ],
   "source": [
    "ANOVA_TABLE"
   ]
  },
  {
   "cell_type": "code",
   "execution_count": null,
   "id": "308b795c",
   "metadata": {},
   "outputs": [],
   "source": [
    " b"
   ]
  }
 ],
 "metadata": {
  "kernelspec": {
   "display_name": "Python 3 (ipykernel)",
   "language": "python",
   "name": "python3"
  },
  "language_info": {
   "codemirror_mode": {
    "name": "ipython",
    "version": 3
   },
   "file_extension": ".py",
   "mimetype": "text/x-python",
   "name": "python",
   "nbconvert_exporter": "python",
   "pygments_lexer": "ipython3",
   "version": "3.9.12"
  }
 },
 "nbformat": 4,
 "nbformat_minor": 5
}
